{
  "nbformat": 4,
  "nbformat_minor": 0,
  "metadata": {
    "colab": {
      "provenance": [],
      "include_colab_link": true
    },
    "kernelspec": {
      "name": "python3",
      "display_name": "Python 3"
    },
    "language_info": {
      "name": "python"
    }
  },
  "cells": [
    {
      "cell_type": "markdown",
      "metadata": {
        "id": "view-in-github",
        "colab_type": "text"
      },
      "source": [
        "<a href=\"https://colab.research.google.com/github/elisaklunder/ML-projects/blob/main/Autoencoder_on_digits_dataset.ipynb\" target=\"_parent\"><img src=\"https://colab.research.google.com/assets/colab-badge.svg\" alt=\"Open In Colab\"/></a>"
      ]
    },
    {
      "cell_type": "markdown",
      "source": [
        "# Autoencoder on handwriten digits\n",
        "### Elisa Klunder, Mihkel Mariusz Jezierski, Aksel Joonas Reedi"
      ],
      "metadata": {
        "id": "VRkL0Og7ySwa"
      }
    },
    {
      "cell_type": "markdown",
      "source": [
        "## Import data"
      ],
      "metadata": {
        "id": "pPR8NzoqIYRh"
      }
    },
    {
      "cell_type": "code",
      "source": [
        "# Importing the necessary libraries\n",
        "import pandas as pd\n",
        "import numpy as np\n",
        "import matplotlib.pyplot as plt\n",
        "from sklearn import datasets\n",
        "from sklearn import preprocessing, metrics\n",
        "from sklearn.model_selection import train_test_split\n",
        "from sklearn.manifold import TSNE, MDS\n",
        "\n",
        "# PyTorch\n",
        "import torch\n",
        "import torch.nn as nn\n",
        "import torch.nn.functional as F\n",
        "import torch.optim as optim\n",
        "from torchvision import transforms\n",
        "\n",
        "# Seed\n",
        "torch.manual_seed(42)\n",
        "\n",
        "# check if we can use GPU\n",
        "device = torch.device(\"cuda:0\") if torch.cuda.is_available() else torch.device(\"cpu\")\n",
        "print(\"Device:\", device)\n",
        "\n",
        "# Ensure that all operations are deterministic on GPU (if used) for reproducibility\n",
        "torch.backends.cudnn.deterministic = True\n",
        "torch.backends.cudnn.benchmark = False"
      ],
      "metadata": {
        "id": "I8B8bLkuI4GZ",
        "colab": {
          "base_uri": "https://localhost:8080/"
        },
        "outputId": "a79180f9-6938-4a07-bc5a-bfa580f289b7"
      },
      "execution_count": null,
      "outputs": [
        {
          "output_type": "stream",
          "name": "stdout",
          "text": [
            "Device: cpu\n"
          ]
        }
      ]
    },
    {
      "cell_type": "code",
      "source": [
        "# Load Digits dataset\n",
        "X, y = datasets.load_digits(return_X_y=True)\n",
        "digits = datasets.load_digits()\n",
        "X.shape"
      ],
      "metadata": {
        "colab": {
          "base_uri": "https://localhost:8080/"
        },
        "id": "bdqRDreMMYut",
        "outputId": "0d57859a-9ff5-4536-aa97-7149a8ac13a8"
      },
      "execution_count": null,
      "outputs": [
        {
          "output_type": "execute_result",
          "data": {
            "text/plain": [
              "(1797, 64)"
            ]
          },
          "metadata": {},
          "execution_count": 2
        }
      ]
    },
    {
      "cell_type": "code",
      "source": [
        "# Show an example of the data\n",
        "plt.gray()\n",
        "plt.matshow(digits.images[1])\n",
        "plt.show()"
      ],
      "metadata": {
        "colab": {
          "base_uri": "https://localhost:8080/",
          "height": 454
        },
        "id": "ugBqfQlHJfB6",
        "outputId": "f65c1b55-77e3-4e15-a753-27deab84d661"
      },
      "execution_count": null,
      "outputs": [
        {
          "output_type": "display_data",
          "data": {
            "text/plain": [
              "<Figure size 640x480 with 0 Axes>"
            ]
          },
          "metadata": {}
        },
        {
          "output_type": "display_data",
          "data": {
            "text/plain": [
              "<Figure size 480x480 with 1 Axes>"
            ],
            "image/png": "[encoded data removed]"
          },
          "metadata": {}
        }
      ]
    },
    {
      "cell_type": "code",
      "source": [
        "# Split data into train and test set\n",
        "X_train, X_test, y_train, y_test = train_test_split(\n",
        "    X, y, test_size=0.25, stratify=y, random_state=42\n",
        ")"
      ],
      "metadata": {
        "id": "4dAvqbjz5K59"
      },
      "execution_count": null,
      "outputs": []
    },
    {
      "cell_type": "code",
      "source": [
        "# Split train data into train and validation set\n",
        "X_train, X_val, y_train, y_val = train_test_split(\n",
        "    X_train, y_train, test_size=0.33, stratify=y_train, random_state=42\n",
        ")\n",
        "\n",
        "scaler = preprocessing.MinMaxScaler(feature_range=(-1, 1))\n",
        "X_train = scaler.fit_transform(X_train)\n",
        "X_test = scaler.transform(X_test)\n",
        "X_val = scaler.transform(X_val)"
      ],
      "metadata": {
        "id": "tpDW6u57uX2E"
      },
      "execution_count": null,
      "outputs": []
    },
    {
      "cell_type": "markdown",
      "source": [
        "## Autoencoder"
      ],
      "metadata": {
        "id": "PHKDuNa6IwnN"
      }
    },
    {
      "cell_type": "code",
      "source": [
        "# Turning the data into tensors for pyTorch\n",
        "X_train = torch.FloatTensor(X_train)\n",
        "X_val = torch.FloatTensor(X_val)\n",
        "X_test = torch.FloatTensor(X_test)"
      ],
      "metadata": {
        "id": "TciydhVtI9B3"
      },
      "execution_count": null,
      "outputs": []
    },
    {
      "cell_type": "code",
      "source": [
        "train_loader = torch.utils.data.DataLoader(dataset=X_train,\n",
        "                                          batch_size=X_train.shape[0],\n",
        "                                          shuffle=True)\n",
        "val_loader = torch.utils.data.DataLoader(dataset=X_val,\n",
        "                                          batch_size=X_val.shape[0],\n",
        "                                          shuffle=False)\n",
        "test_loader = torch.utils.data.DataLoader(dataset=X_test,\n",
        "                                          batch_size=X_test.shape[0],\n",
        "                                          shuffle=False)"
      ],
      "metadata": {
        "id": "t66HevLWkGLF"
      },
      "execution_count": null,
      "outputs": []
    },
    {
      "cell_type": "code",
      "source": [
        "# Encoder\n",
        "class Encoder(nn.Module):\n",
        "  def __init__(self, act_fn : object = nn.GELU):\n",
        "    super().__init__()\n",
        "    c_hid = 8\n",
        "    self.encoder = nn.Sequential(\n",
        "        nn.Conv2d(1, c_hid, kernel_size=2, padding=0, stride=2), # from 8x8 to 4x4\n",
        "        act_fn(),\n",
        "        nn.Conv2d(c_hid, 2*c_hid, kernel_size=2, padding=0, stride=2), # from 4x4 to 2x2\n",
        "        act_fn(),\n",
        "        nn.Flatten(), # From grid to single feature vector\n",
        "        nn.Linear(4*2*c_hid, 2) # from 4 dimensions to 2 dimensions\n",
        "      )\n",
        "\n",
        "  def forward(self, x):\n",
        "        return self.encoder(x)"
      ],
      "metadata": {
        "id": "jpLawWx2ORE0"
      },
      "execution_count": null,
      "outputs": []
    },
    {
      "cell_type": "code",
      "source": [
        "# Decoder\n",
        "class Decoder(nn.Module):\n",
        "\n",
        "  def __init__(self, act_fn : object = nn.GELU):\n",
        "    super().__init__()\n",
        "    c_hid = 8\n",
        "    self.linear = nn.Sequential(\n",
        "            nn.Linear(2, 2*4*c_hid),\n",
        "            act_fn()\n",
        "        )\n",
        "    self.decoder = nn.Sequential(\n",
        "            nn.ConvTranspose2d(2*c_hid, c_hid, kernel_size=2, output_padding=0, padding=0, stride=2), # 2x2 => 4x4\n",
        "            act_fn(),\n",
        "            nn.ConvTranspose2d(c_hid, 1, kernel_size=2, output_padding=0, padding=0, stride=2), # 4x4 => 8x8\n",
        "            nn.Tanh() # The input images is scaled between -1 and 1, hence the output has to be bounded as well\n",
        "    )\n",
        "\n",
        "  def forward(self, x):\n",
        "      x = self.linear(x)\n",
        "      x = x.reshape(x.shape[0], -1, 2, 2)\n",
        "      x = self.decoder(x)\n",
        "      return x"
      ],
      "metadata": {
        "id": "xaNCvkItVIBV"
      },
      "execution_count": null,
      "outputs": []
    },
    {
      "cell_type": "code",
      "source": [
        "# Putting encoder and decoder together in an autoencoder (AE)\n",
        "class Autoencoder(nn.Module):\n",
        "  def __init__(self, encoder_class : object = Encoder, decoder_class : object = Decoder):\n",
        "          super().__init__()\n",
        "          self.encoder = encoder_class()\n",
        "          self.decoder = decoder_class()\n",
        "\n",
        "  def forward(self, x):   # call for the autoencoder\n",
        "      y = self.encoder(x)\n",
        "      z = self.decoder(y)\n",
        "      return z\n",
        "\n",
        "  def forward_encoder(self, x):   # call only for the encoder part\n",
        "      z = self.encoder(x)\n",
        "      return z\n"
      ],
      "metadata": {
        "id": "OhuY2yGYVjSo"
      },
      "execution_count": null,
      "outputs": []
    },
    {
      "cell_type": "code",
      "source": [
        "# Setting the model\n",
        "model = Autoencoder()\n",
        "loss_function = nn.MSELoss()\n",
        "optimizer = torch.optim.Adam(params=model.parameters())"
      ],
      "metadata": {
        "id": "pCPdL2NUR4ev"
      },
      "execution_count": null,
      "outputs": []
    },
    {
      "cell_type": "code",
      "source": [
        "# Training the autoencoder\n",
        "num_epochs = 2000\n",
        "outputs = []\n",
        "outputs_val = []\n",
        "for epoch in range(num_epochs):\n",
        "  for image in train_loader:\n",
        "    image = image.view(-1,1,8,8)\n",
        "\n",
        "    #forward pass\n",
        "    reconstructed = model.forward(image)\n",
        "    loss = loss_function(reconstructed, image)\n",
        "\n",
        "    #backward pass\n",
        "    optimizer.zero_grad()\n",
        "    loss.backward()\n",
        "    optimizer.step()\n",
        "\n",
        "  if epoch % 100 == 0: #test the model against the validation set\n",
        "    for image_val in val_loader:\n",
        "        image_val = image_val.view(-1,1,8,8)\n",
        "\n",
        "        reconstructed_val = model.forward(image_val)\n",
        "        loss_val = loss_function(reconstructed_val, image_val)\n",
        "        outputs.append((epoch, image, reconstructed, loss.item()))\n",
        "        outputs_val.append((epoch, image_val, reconstructed_val, loss_val.item()))\n",
        "\n",
        "    print(f\"epoch: {epoch}, train loss: {loss.item():.4f}, validation loss: {loss_val.item():.4f}\")"
      ],
      "metadata": {
        "id": "ltuqu6fIRiZl",
        "colab": {
          "base_uri": "https://localhost:8080/"
        },
        "outputId": "6b30b882-5a86-470d-bdc3-57ee74c6a2a1"
      },
      "execution_count": null,
      "outputs": [
        {
          "output_type": "stream",
          "name": "stdout",
          "text": [
            "epoch: 0, train loss: 0.6390, validation loss: 0.6362\n",
            "epoch: 100, train loss: 0.3093, validation loss: 0.3161\n",
            "epoch: 200, train loss: 0.2706, validation loss: 0.2774\n",
            "epoch: 300, train loss: 0.2407, validation loss: 0.2487\n",
            "epoch: 400, train loss: 0.2282, validation loss: 0.2366\n",
            "epoch: 500, train loss: 0.2206, validation loss: 0.2293\n",
            "epoch: 600, train loss: 0.2136, validation loss: 0.2224\n",
            "epoch: 700, train loss: 0.2060, validation loss: 0.2150\n",
            "epoch: 800, train loss: 0.1988, validation loss: 0.2079\n",
            "epoch: 900, train loss: 0.1933, validation loss: 0.2029\n",
            "epoch: 1000, train loss: 0.1887, validation loss: 0.1992\n",
            "epoch: 1100, train loss: 0.1852, validation loss: 0.1964\n",
            "epoch: 1200, train loss: 0.1823, validation loss: 0.1940\n",
            "epoch: 1300, train loss: 0.1796, validation loss: 0.1923\n",
            "epoch: 1400, train loss: 0.1774, validation loss: 0.1906\n",
            "epoch: 1500, train loss: 0.1752, validation loss: 0.1891\n",
            "epoch: 1600, train loss: 0.1732, validation loss: 0.1884\n",
            "epoch: 1700, train loss: 0.1714, validation loss: 0.1877\n",
            "epoch: 1800, train loss: 0.1699, validation loss: 0.1872\n",
            "epoch: 1900, train loss: 0.1685, validation loss: 0.1869\n"
          ]
        }
      ]
    },
    {
      "cell_type": "code",
      "source": [
        "# Plotting validation loss to check for overfitting\n",
        "train_loss = [outputs[int(epoch/100)][3] for epoch in range(0, num_epochs, 100)]\n",
        "val_loss = [outputs_val[int(epoch/100)][3] for epoch in range(0, num_epochs, 100)]\n",
        "epochs = range(0, num_epochs, 100)\n",
        "plt.figure(figsize=(10, 5))\n",
        "\n",
        "plt.plot(epochs, train_loss, label='Training Loss')\n",
        "plt.plot(epochs, val_loss, label='Validation Loss')\n",
        "plt.xlabel('Epoch')\n",
        "plt.ylabel('Loss')\n",
        "plt.legend()\n",
        "plt.title('Training and Validation Loss Over Time')\n",
        "plt.show()"
      ],
      "metadata": {
        "colab": {
          "base_uri": "https://localhost:8080/",
          "height": 487
        },
        "id": "qCWeeWu055sS",
        "outputId": "f1e3e0de-1f1d-4347-fd5c-212503d6539a"
      },
      "execution_count": null,
      "outputs": [
        {
          "output_type": "display_data",
          "data": {
            "text/plain": [
              "<Figure size 1000x500 with 1 Axes>"
            ],
            "image/png": "[encoded data removed]"
          },
          "metadata": {}
        }
      ]
    },
    {
      "cell_type": "code",
      "source": [
        "num_epochs = 2000\n",
        "# Plotting the visual working of the autoencoder\n",
        "for k in range(0, num_epochs, 400):\n",
        "    plt.figure(figsize=(9, 2))\n",
        "    plt.gray()\n",
        "    imgs = outputs[int(k/400)][1].detach().numpy()\n",
        "    recon = outputs[int(k/400)][2].detach().numpy()\n",
        "    for i, item in enumerate(imgs):\n",
        "        if i >= 9: break\n",
        "        plt.subplot(2, 9, i+1)\n",
        "        plt.imshow(item[0])"
      ],
      "metadata": {
        "colab": {
          "base_uri": "https://localhost:8080/",
          "height": 567
        },
        "id": "joZlXCUFwMGk",
        "outputId": "cc4ce32d-e851-4ce3-9921-04de5b190268"
      },
      "execution_count": null,
      "outputs": [
        {
          "output_type": "display_data",
          "data": {
            "text/plain": [
              "<Figure size 900x200 with 9 Axes>"
            ],
            "image/png": "[encoded data removed]"
          },
          "metadata": {}
        },
        {
          "output_type": "display_data",
          "data": {
            "text/plain": [
              "<Figure size 900x200 with 9 Axes>"
            ],
            "image/png": "[encoded data removed]"
          },
          "metadata": {}
        },
        {
          "output_type": "display_data",
          "data": {
            "text/plain": [
              "<Figure size 900x200 with 9 Axes>"
            ],
            "image/png": "[encoded data removed]"
          },
          "metadata": {}
        },
        {
          "output_type": "display_data",
          "data": {
            "text/plain": [
              "<Figure size 900x200 with 9 Axes>"
            ],
            "image/png": "[encoded data removed]"
          },
          "metadata": {}
        },
        {
          "output_type": "display_data",
          "data": {
            "text/plain": [
              "<Figure size 900x200 with 9 Axes>"
            ],
            "image/png": "[encoded data removed]"
          },
          "metadata": {}
        }
      ]
    }
  ]
}